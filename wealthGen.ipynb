{
 "cells": [
  {
   "cell_type": "code",
   "execution_count": 1,
   "id": "3631f841-b9de-484e-a246-17a3bfd475b8",
   "metadata": {},
   "outputs": [],
   "source": [
    "import os\n",
    "import math"
   ]
  },
  {
   "cell_type": "code",
   "execution_count": 2,
   "id": "6bc890d8-db0e-4d0c-8ec2-6486f0acab87",
   "metadata": {},
   "outputs": [],
   "source": [
    "\n",
    "def corpusGenGrowthRate(t1=30, t2=50, unit=150000,  rr=0.13, initial=0):\n",
    "  n=t2-t1 \n",
    "\n",
    "  yearly = 12*unit \n",
    "\n",
    "  corpus = initial \n",
    "  # (yearly*math.pow(1+rr,n)) + (yearly*math.pow(1+rr,n-1)) + (yearly*math.pow(1+rr,n-2))\n",
    "  for i in range(1,n):\n",
    "    corpus+=  (yearly * math.pow(1+rr,n-i) )\n",
    "\n",
    "  return corpus"
   ]
  },
  {
   "cell_type": "code",
   "execution_count": 5,
   "id": "7e8d82ef-81bc-4346-99a5-28642a50a244",
   "metadata": {},
   "outputs": [
    {
     "name": "stdout",
     "output_type": "stream",
     "text": [
      " final amount : 12.55\n"
     ]
    }
   ],
   "source": [
    "unit = 150000\n",
    "t1 = 31\n",
    "t2 = 50\n",
    "rr = 0.13\n",
    "# rr = 0.085\n",
    "\n",
    "print(f' final amount : {corpusGenGrowthRate(t1,t2, unit, rr)/10000000:.2f}', )\n"
   ]
  },
  {
   "cell_type": "code",
   "execution_count": 6,
   "id": "b179a2df-3ef1-4dba-a47c-76534e02b3ab",
   "metadata": {},
   "outputs": [
    {
     "name": "stdout",
     "output_type": "stream",
     "text": [
      " final amount : 46.37\n"
     ]
    }
   ],
   "source": [
    "\n",
    "print(f' final amount : {corpusGenGrowthRate(31,60, unit, rr)/10000000:.2f}', )\n"
   ]
  },
  {
   "cell_type": "code",
   "execution_count": null,
   "id": "ff0a9065-7b02-4031-a8b8-6bbc40c93e98",
   "metadata": {},
   "outputs": [],
   "source": [
    "6/math.pow((1+0.05),20)"
   ]
  }
 ],
 "metadata": {
  "kernelspec": {
   "display_name": "Python 3 (ipykernel)",
   "language": "python",
   "name": "python3"
  },
  "language_info": {
   "codemirror_mode": {
    "name": "ipython",
    "version": 3
   },
   "file_extension": ".py",
   "mimetype": "text/x-python",
   "name": "python",
   "nbconvert_exporter": "python",
   "pygments_lexer": "ipython3",
   "version": "3.9.16"
  }
 },
 "nbformat": 4,
 "nbformat_minor": 5
}
