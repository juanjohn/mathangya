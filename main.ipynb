{
 "cells": [
  {
   "cell_type": "code",
   "execution_count": 101,
   "id": "83fe1723-aac4-40a4-82f2-d15192f58cca",
   "metadata": {},
   "outputs": [],
   "source": [
    "# # FOR FUNDAMENTAL ANALYSIS https://python-yahoofinance.readthedocs.io/en/latest/api.html\n",
    "#!pip install yahoo_fin --upgrade\n",
    "#!pip install requests_htm\n",
    "\n",
    "\n",
    "import os\n",
    "import requests\n",
    "import json\n",
    "import pandas as pd\n",
    "from datetime import datetime\n",
    "import yahoo_fin.stock_info as si"
   ]
  },
  {
   "cell_type": "code",
   "execution_count": 102,
   "id": "5f9c1f91-d4de-4de9-8e28-22c4d217bae5",
   "metadata": {
    "jupyter": {
     "source_hidden": true
    }
   },
   "outputs": [],
   "source": [
    "# #!pip install yfinance --upgrade --no-cache-dir      # https://algotrading101.com/learn/yfinance-guide/\n",
    "# import yfinance as yf\n",
    "# msft = yf.Ticker(\"MSFT\")\n",
    "# print(msft.info)"
   ]
  },
  {
   "cell_type": "code",
   "execution_count": 104,
   "id": "0b34d001-68cc-4c25-84f6-1657e1f2cb5b",
   "metadata": {},
   "outputs": [],
   "source": [
    "\n",
    "\n",
    "curr_date=datetime.today().strftime('%m/%d/%Y')\n",
    "\n",
    "# reliance_daily= si.get_data(\"RELIANCE.NS\", start_date=\"12/04/2014\", end_date=curr_date, index_as_date = True, interval=\"1d\")   \n",
    "# https://query1.finance.yahoo.com/v8/finance/chart/RELIANCE.NS\n",
    "# reliance_daily\n",
    "\n",
    "# getting list of tickers from where?\n",
    "# dow_list = si.tickers_other()\n",
    "# print(\"Tickers in Dow Jones:\", len(dow_list))\n",
    "# dow_list[0:10]\n"
   ]
  },
  {
   "cell_type": "code",
   "execution_count": null,
   "id": "33672b4d-58b0-41e6-85a0-797739a723fd",
   "metadata": {},
   "outputs": [],
   "source": []
  },
  {
   "cell_type": "code",
   "execution_count": null,
   "id": "dbf49bce-eae3-4491-abc4-ce8d50d9add4",
   "metadata": {},
   "outputs": [],
   "source": []
  }
 ],
 "metadata": {
  "kernelspec": {
   "display_name": "Python 3 (ipykernel)",
   "language": "python",
   "name": "python3"
  },
  "language_info": {
   "codemirror_mode": {
    "name": "ipython",
    "version": 3
   },
   "file_extension": ".py",
   "mimetype": "text/x-python",
   "name": "python",
   "nbconvert_exporter": "python",
   "pygments_lexer": "ipython3",
   "version": "3.9.16"
  }
 },
 "nbformat": 4,
 "nbformat_minor": 5
}
