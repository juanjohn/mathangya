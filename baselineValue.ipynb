{
 "cells": [
  {
   "cell_type": "code",
   "execution_count": 16,
   "id": "83fe1723-aac4-40a4-82f2-d15192f58cca",
   "metadata": {},
   "outputs": [],
   "source": [
    "#!python\n",
    "#!pip install kiteconnect\n",
    "\n",
    "import logging\n",
    "from kiteconnect import KiteConnect"
   ]
  },
  {
   "cell_type": "code",
   "execution_count": 17,
   "id": "5f9c1f91-d4de-4de9-8e28-22c4d217bae5",
   "metadata": {},
   "outputs": [],
   "source": [
    "\n",
    "logging.basicConfig(level=logging.DEBUG)\n",
    "\n",
    "# fRpU7Qx8TY6TEiI9b04cYBJgXO2JOf9a"
   ]
  },
  {
   "cell_type": "code",
   "execution_count": null,
   "id": "0b34d001-68cc-4c25-84f6-1657e1f2cb5b",
   "metadata": {},
   "outputs": [],
   "source": []
  },
  {
   "cell_type": "code",
   "execution_count": null,
   "id": "33672b4d-58b0-41e6-85a0-797739a723fd",
   "metadata": {},
   "outputs": [],
   "source": []
  },
  {
   "cell_type": "code",
   "execution_count": null,
   "id": "dbf49bce-eae3-4491-abc4-ce8d50d9add4",
   "metadata": {},
   "outputs": [],
   "source": []
  }
 ],
 "metadata": {
  "kernelspec": {
   "display_name": "Python 3 (ipykernel)",
   "language": "python",
   "name": "python3"
  },
  "language_info": {
   "codemirror_mode": {
    "name": "ipython",
    "version": 3
   },
   "file_extension": ".py",
   "mimetype": "text/x-python",
   "name": "python",
   "nbconvert_exporter": "python",
   "pygments_lexer": "ipython3",
   "version": "3.9.16"
  }
 },
 "nbformat": 4,
 "nbformat_minor": 5
}
