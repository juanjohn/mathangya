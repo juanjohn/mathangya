{
 "cells": [
  {
   "cell_type": "code",
   "execution_count": 2,
   "id": "43d7f9e5-ec69-4a37-814d-756575d1bd23",
   "metadata": {},
   "outputs": [
    {
     "data": {
      "text/plain": [
       "'\\n\\nhttps://github.com/vsjha18/nsetools/blob/master/docs/source/index.rst\\nhttps://finance.yahoo.com/quote/%5ENSEI/history/\\n\\nhttps://www.nseindia.com/market-data/eod-historical-data-subscription\\n************ https://stackoverflow.com/questions/27678734/stock-quotes-from-yahoo-finance-for-indian-nse-bse#47053741\\nhttps://duckduckgo.com/?q=google+finance+api&t=brave&ia=web\\nhttps://algotrading101.com/learn/google-finance-api-guide/\\n************ https://query1.finance.yahoo.com/v8/finance/chart/CDSL.NS\\nhttps://nsetools.readthedocs.io/en/latest/introduction.html\\nhttps://stackoverflow.com/questions/13055208/httperror-http-error-403-forbidden#13055444\\n************ https://www.alphavantage.co/documentation/\\n\\n\\n#!pip install investpy import investpy\\n\\n'"
      ]
     },
     "execution_count": 2,
     "metadata": {},
     "output_type": "execute_result"
    }
   ],
   "source": [
    "#Hello\n",
    "\n",
    "\"\"\"\n",
    "\n",
    "https://github.com/vsjha18/nsetools/blob/master/docs/source/index.rst\n",
    "https://finance.yahoo.com/quote/%5ENSEI/history/\n",
    "\n",
    "https://www.nseindia.com/market-data/eod-historical-data-subscription\n",
    "************ https://stackoverflow.com/questions/27678734/stock-quotes-from-yahoo-finance-for-indian-nse-bse#47053741\n",
    "https://duckduckgo.com/?q=google+finance+api&t=brave&ia=web\n",
    "https://algotrading101.com/learn/google-finance-api-guide/\n",
    "************ https://query1.finance.yahoo.com/v8/finance/chart/CDSL.NS\n",
    "https://nsetools.readthedocs.io/en/latest/introduction.html\n",
    "https://stackoverflow.com/questions/13055208/httperror-http-error-403-forbidden#13055444\n",
    "************ https://www.alphavantage.co/documentation/\n",
    "\n",
    "\n",
    "#!pip install investpy import investpy\n",
    "\n",
    "\"\"\""
   ]
  },
  {
   "cell_type": "code",
   "execution_count": 3,
   "id": "48d8978a-0d80-42a3-9b9a-bbb1dd411cc0",
   "metadata": {},
   "outputs": [],
   "source": [
    "#!pip install nsetools\n",
    "from nsetools import Nse\n",
    "nse = Nse()\n",
    "#q = nse.get_quote('infy')\n"
   ]
  },
  {
   "cell_type": "code",
   "execution_count": 4,
   "id": "6f911127-b0b8-4aac-85e0-e1f1cfd9e0d3",
   "metadata": {},
   "outputs": [],
   "source": [
    "import os\n",
    "import requests\n",
    "import json\n",
    "import pandas as pd\n",
    "\n",
    "from io import StringIO"
   ]
  },
  {
   "cell_type": "code",
   "execution_count": 5,
   "id": "c4ebeaa4-9d54-4bad-b375-225cb110d36b",
   "metadata": {},
   "outputs": [],
   "source": [
    "# os.environ[\"AVK\"] = \"\"\n",
    "# print(os.environ[\"AVK\"])"
   ]
  },
  {
   "cell_type": "code",
   "execution_count": 9,
   "id": "0681b5c4-0d54-4ef3-a16d-15d99c7b5211",
   "metadata": {},
   "outputs": [
    {
     "ename": "KeyError",
     "evalue": "'AVK'",
     "output_type": "error",
     "traceback": [
      "\u001b[0;31m---------------------------------------------------------------------------\u001b[0m",
      "\u001b[0;31mKeyError\u001b[0m                                  Traceback (most recent call last)",
      "Cell \u001b[0;32mIn[9], line 1\u001b[0m\n\u001b[0;32m----> 1\u001b[0m key\u001b[38;5;241m=\u001b[39m\u001b[43mos\u001b[49m\u001b[38;5;241;43m.\u001b[39;49m\u001b[43menviron\u001b[49m\u001b[43m[\u001b[49m\u001b[38;5;124;43m\"\u001b[39;49m\u001b[38;5;124;43mAVK\u001b[39;49m\u001b[38;5;124;43m\"\u001b[39;49m\u001b[43m]\u001b[49m\n\u001b[1;32m      3\u001b[0m url \u001b[38;5;241m=\u001b[39m \u001b[38;5;124m\"\u001b[39m\u001b[38;5;124mhttps://www.alphavantage.co/query?function=TIME_SERIES_DAILY&symbol=RELIANCE.BSE&outputsize=full&apikey=\u001b[39m\u001b[38;5;124m\"\u001b[39m\u001b[38;5;241m+\u001b[39mkey\n\u001b[1;32m      4\u001b[0m r \u001b[38;5;241m=\u001b[39m requests\u001b[38;5;241m.\u001b[39mget(url)\n",
      "File \u001b[0;32m/usr/lib64/python3.9/os.py:679\u001b[0m, in \u001b[0;36m_Environ.__getitem__\u001b[0;34m(self, key)\u001b[0m\n\u001b[1;32m    676\u001b[0m     value \u001b[38;5;241m=\u001b[39m \u001b[38;5;28mself\u001b[39m\u001b[38;5;241m.\u001b[39m_data[\u001b[38;5;28mself\u001b[39m\u001b[38;5;241m.\u001b[39mencodekey(key)]\n\u001b[1;32m    677\u001b[0m \u001b[38;5;28;01mexcept\u001b[39;00m \u001b[38;5;167;01mKeyError\u001b[39;00m:\n\u001b[1;32m    678\u001b[0m     \u001b[38;5;66;03m# raise KeyError with the original key value\u001b[39;00m\n\u001b[0;32m--> 679\u001b[0m     \u001b[38;5;28;01mraise\u001b[39;00m \u001b[38;5;167;01mKeyError\u001b[39;00m(key) \u001b[38;5;28;01mfrom\u001b[39;00m \u001b[38;5;28;01mNone\u001b[39;00m\n\u001b[1;32m    680\u001b[0m \u001b[38;5;28;01mreturn\u001b[39;00m \u001b[38;5;28mself\u001b[39m\u001b[38;5;241m.\u001b[39mdecodevalue(value)\n",
      "\u001b[0;31mKeyError\u001b[0m: 'AVK'"
     ]
    }
   ],
   "source": [
    "key=os.environ[\"AVK\"]\n",
    "\n",
    "url = \"https://www.alphavantage.co/query?function=TIME_SERIES_DAILY&symbol=RELIANCE.BSE&outputsize=full&apikey=\"+key\n",
    "r = requests.get(url)\n",
    "data = r.json()\n",
    "\n",
    "# data\n",
    "print(json.dumps(data[\"Meta Data\"], indent=2))\n",
    "# print(json.dumps(data[\"Time Series (Daily)\"], indent=2))\n",
    "\n",
    "# print(json.dumps(data[\"Time Series (Daily)\"][\"2024-11-22\"], indent=2))\n",
    "\n",
    "# data = [['tom', 10], ['nick', 15], ['juli', 14]]\n",
    "# df = pd.DataFrame(data, columns=['Name', 'Age'])\n"
   ]
  },
  {
   "cell_type": "code",
   "execution_count": 87,
   "id": "71f34b77-ace6-40c0-a8eb-79266d7f3964",
   "metadata": {},
   "outputs": [],
   "source": [
    "\n",
    "ds=data[\"Time Series (Daily)\"]\n",
    "tmp_array=[]\n",
    "for day in ds :\n",
    "    daily=ds[day]\n",
    "    tmp_array.append(\n",
    "                     [day, daily['1. open'],daily['2. high'],daily['3. low'],daily['4. close'],daily['5. volume']]\n",
    "                    )\n",
    "\n",
    "df=pd.DataFrame(tmp_array,columns=[\"Date\",\"Open\",\"High\",\"Low\", \"Close\", \"Volume\"])"
   ]
  },
  {
   "cell_type": "code",
   "execution_count": 89,
   "id": "d03e41cd-9f36-47bb-8a17-94229676715c",
   "metadata": {},
   "outputs": [
    {
     "data": {
      "text/html": [
       "<div>\n",
       "<style scoped>\n",
       "    .dataframe tbody tr th:only-of-type {\n",
       "        vertical-align: middle;\n",
       "    }\n",
       "\n",
       "    .dataframe tbody tr th {\n",
       "        vertical-align: top;\n",
       "    }\n",
       "\n",
       "    .dataframe thead th {\n",
       "        text-align: right;\n",
       "    }\n",
       "</style>\n",
       "<table border=\"1\" class=\"dataframe\">\n",
       "  <thead>\n",
       "    <tr style=\"text-align: right;\">\n",
       "      <th></th>\n",
       "      <th>Date</th>\n",
       "      <th>Open</th>\n",
       "      <th>High</th>\n",
       "      <th>Low</th>\n",
       "      <th>Close</th>\n",
       "      <th>Volume</th>\n",
       "    </tr>\n",
       "  </thead>\n",
       "  <tbody>\n",
       "    <tr>\n",
       "      <th>0</th>\n",
       "      <td>2024-11-22</td>\n",
       "      <td>1229.9000</td>\n",
       "      <td>1268.6500</td>\n",
       "      <td>1223.0500</td>\n",
       "      <td>1265.9500</td>\n",
       "      <td>1055840</td>\n",
       "    </tr>\n",
       "    <tr>\n",
       "      <th>1</th>\n",
       "      <td>2024-11-21</td>\n",
       "      <td>1247.0500</td>\n",
       "      <td>1247.0500</td>\n",
       "      <td>1217.7000</td>\n",
       "      <td>1223.2000</td>\n",
       "      <td>491073</td>\n",
       "    </tr>\n",
       "    <tr>\n",
       "      <th>2</th>\n",
       "      <td>2024-11-19</td>\n",
       "      <td>1259.0500</td>\n",
       "      <td>1281.0000</td>\n",
       "      <td>1235.4500</td>\n",
       "      <td>1241.3000</td>\n",
       "      <td>397953</td>\n",
       "    </tr>\n",
       "    <tr>\n",
       "      <th>3</th>\n",
       "      <td>2024-11-18</td>\n",
       "      <td>1266.5500</td>\n",
       "      <td>1273.1000</td>\n",
       "      <td>1244.0000</td>\n",
       "      <td>1260.6500</td>\n",
       "      <td>609245</td>\n",
       "    </tr>\n",
       "    <tr>\n",
       "      <th>4</th>\n",
       "      <td>2024-11-14</td>\n",
       "      <td>1254.5500</td>\n",
       "      <td>1272.5000</td>\n",
       "      <td>1252.2500</td>\n",
       "      <td>1267.7000</td>\n",
       "      <td>799528</td>\n",
       "    </tr>\n",
       "    <tr>\n",
       "      <th>...</th>\n",
       "      <td>...</td>\n",
       "      <td>...</td>\n",
       "      <td>...</td>\n",
       "      <td>...</td>\n",
       "      <td>...</td>\n",
       "      <td>...</td>\n",
       "    </tr>\n",
       "    <tr>\n",
       "      <th>4894</th>\n",
       "      <td>2005-01-07</td>\n",
       "      <td>359.8268</td>\n",
       "      <td>373.1158</td>\n",
       "      <td>359.5200</td>\n",
       "      <td>368.5838</td>\n",
       "      <td>33939690</td>\n",
       "    </tr>\n",
       "    <tr>\n",
       "      <th>4895</th>\n",
       "      <td>2005-01-06</td>\n",
       "      <td>357.7824</td>\n",
       "      <td>365.6194</td>\n",
       "      <td>356.1470</td>\n",
       "      <td>358.4298</td>\n",
       "      <td>26893035</td>\n",
       "    </tr>\n",
       "    <tr>\n",
       "      <th>4896</th>\n",
       "      <td>2005-01-05</td>\n",
       "      <td>358.1232</td>\n",
       "      <td>363.9158</td>\n",
       "      <td>351.8194</td>\n",
       "      <td>361.1214</td>\n",
       "      <td>33908532</td>\n",
       "    </tr>\n",
       "    <tr>\n",
       "      <th>4897</th>\n",
       "      <td>2005-01-04</td>\n",
       "      <td>364.5974</td>\n",
       "      <td>371.3782</td>\n",
       "      <td>360.8490</td>\n",
       "      <td>361.7348</td>\n",
       "      <td>20119886</td>\n",
       "    </tr>\n",
       "    <tr>\n",
       "      <th>4898</th>\n",
       "      <td>2005-01-03</td>\n",
       "      <td>354.4090</td>\n",
       "      <td>371.0712</td>\n",
       "      <td>354.4090</td>\n",
       "      <td>370.1174</td>\n",
       "      <td>23685843</td>\n",
       "    </tr>\n",
       "  </tbody>\n",
       "</table>\n",
       "<p>4899 rows × 6 columns</p>\n",
       "</div>"
      ],
      "text/plain": [
       "            Date       Open       High        Low      Close    Volume\n",
       "0     2024-11-22  1229.9000  1268.6500  1223.0500  1265.9500   1055840\n",
       "1     2024-11-21  1247.0500  1247.0500  1217.7000  1223.2000    491073\n",
       "2     2024-11-19  1259.0500  1281.0000  1235.4500  1241.3000    397953\n",
       "3     2024-11-18  1266.5500  1273.1000  1244.0000  1260.6500    609245\n",
       "4     2024-11-14  1254.5500  1272.5000  1252.2500  1267.7000    799528\n",
       "...          ...        ...        ...        ...        ...       ...\n",
       "4894  2005-01-07   359.8268   373.1158   359.5200   368.5838  33939690\n",
       "4895  2005-01-06   357.7824   365.6194   356.1470   358.4298  26893035\n",
       "4896  2005-01-05   358.1232   363.9158   351.8194   361.1214  33908532\n",
       "4897  2005-01-04   364.5974   371.3782   360.8490   361.7348  20119886\n",
       "4898  2005-01-03   354.4090   371.0712   354.4090   370.1174  23685843\n",
       "\n",
       "[4899 rows x 6 columns]"
      ]
     },
     "execution_count": 89,
     "metadata": {},
     "output_type": "execute_result"
    }
   ],
   "source": [
    "df"
   ]
  },
  {
   "cell_type": "code",
   "execution_count": 93,
   "id": "4bf83710-96fb-4e1b-9d62-81e8296fd5e9",
   "metadata": {},
   "outputs": [
    {
     "ename": "KeyError",
     "evalue": "'AVKey'",
     "output_type": "error",
     "traceback": [
      "\u001b[0;31m---------------------------------------------------------------------------\u001b[0m",
      "\u001b[0;31mKeyError\u001b[0m                                  Traceback (most recent call last)",
      "Cell \u001b[0;32mIn[93], line 12\u001b[0m\n\u001b[1;32m      9\u001b[0m         \u001b[38;5;28;01mreturn\u001b[39;00m data\n\u001b[1;32m     11\u001b[0m \u001b[38;5;66;03m# os.environ[\"AVKey\"] = \"\"\u001b[39;00m\n\u001b[0;32m---> 12\u001b[0m fU \u001b[38;5;241m=\u001b[39m fetchUtils(\u001b[43mos\u001b[49m\u001b[38;5;241;43m.\u001b[39;49m\u001b[43menviron\u001b[49m\u001b[43m[\u001b[49m\u001b[38;5;124;43m\"\u001b[39;49m\u001b[38;5;124;43mAVKey\u001b[39;49m\u001b[38;5;124;43m\"\u001b[39;49m\u001b[43m]\u001b[49m)\n\u001b[1;32m     15\u001b[0m tickrs\u001b[38;5;241m=\u001b[39m[\u001b[38;5;124m\"\u001b[39m\u001b[38;5;124mRELIANCE.BSE\u001b[39m\u001b[38;5;124m\"\u001b[39m]\n\u001b[1;32m     16\u001b[0m \u001b[38;5;28;01mfor\u001b[39;00m tickr \u001b[38;5;129;01min\u001b[39;00m tickrs:\n",
      "File \u001b[0;32m/usr/lib64/python3.9/os.py:679\u001b[0m, in \u001b[0;36m_Environ.__getitem__\u001b[0;34m(self, key)\u001b[0m\n\u001b[1;32m    676\u001b[0m     value \u001b[38;5;241m=\u001b[39m \u001b[38;5;28mself\u001b[39m\u001b[38;5;241m.\u001b[39m_data[\u001b[38;5;28mself\u001b[39m\u001b[38;5;241m.\u001b[39mencodekey(key)]\n\u001b[1;32m    677\u001b[0m \u001b[38;5;28;01mexcept\u001b[39;00m \u001b[38;5;167;01mKeyError\u001b[39;00m:\n\u001b[1;32m    678\u001b[0m     \u001b[38;5;66;03m# raise KeyError with the original key value\u001b[39;00m\n\u001b[0;32m--> 679\u001b[0m     \u001b[38;5;28;01mraise\u001b[39;00m \u001b[38;5;167;01mKeyError\u001b[39;00m(key) \u001b[38;5;28;01mfrom\u001b[39;00m \u001b[38;5;28;01mNone\u001b[39;00m\n\u001b[1;32m    680\u001b[0m \u001b[38;5;28;01mreturn\u001b[39;00m \u001b[38;5;28mself\u001b[39m\u001b[38;5;241m.\u001b[39mdecodevalue(value)\n",
      "\u001b[0;31mKeyError\u001b[0m: 'AVKey'"
     ]
    }
   ],
   "source": [
    "\n",
    "class fetchUtils():\n",
    "    def __init__(self,AVKey):\n",
    "        self.AVKey=AVKey\n",
    "\n",
    "    def fetchAlphaVantageQuote(self, functionAV=\"TIME_SERIES_DAILY\", symbol=\"RELIANCE.BSE\", outputsize=\"full\"):\n",
    "        url = \"https://www.alphavantage.co/query?function=\"+functionAV+\"&symbol=\"+symbol+\"&outputsize=\"+outputsize+\"&apikey=\"+self.AVKey\n",
    "        r = requests.get(url)\n",
    "        data = r.json()\n",
    "        return data\n",
    "\n",
    "# os.environ[\"AVKey\"] = \"\"\n",
    "fU = fetchUtils(os.environ[\"AVKey\"])\n",
    "\n",
    "\n",
    "tickrs=[\"RELIANCE.BSE\"]\n",
    "for tickr in tickrs:\n",
    "    data= fU.fetchAlphaVantageQuote(\"TIME_SERIES_DAILY_ADJUSTED\", tickr, \"full\")\n",
    "\n",
    "\n",
    "# print(json.dumps(data[\"Meta Data\"], indent=2))\n",
    "# print(json.dumps(data[\"Time Series (Daily)\"][\"2024-11-22\"], indent=2))\n",
    "\n",
    "\n",
    "ds=data[\"Time Series (Daily)\"]\n",
    "tmp_array=[]\n",
    "for day in ds :\n",
    "    daily=ds[day]\n",
    "    tmp_array.append(\n",
    "                     [day, daily['1. open'],daily['2. high'],daily['3. low'],daily['4. close'],daily['5. volume']]\n",
    "                    )\n",
    "\n",
    "df=pd.DataFrame(tmp_array,columns=[\"Date\",\"Open\",\"High\",\"Low\", \"Close\", \"Volume\"])\n"
   ]
  },
  {
   "cell_type": "code",
   "execution_count": 92,
   "id": "768ad08d-0f46-4d25-ad37-6a3d924ae647",
   "metadata": {},
   "outputs": [
    {
     "ename": "ConnectionError",
     "evalue": "ERR#0015: error 403, try again later.",
     "output_type": "error",
     "traceback": [
      "\u001b[0;31m---------------------------------------------------------------------------\u001b[0m",
      "\u001b[0;31mConnectionError\u001b[0m                           Traceback (most recent call last)",
      "Cell \u001b[0;32mIn[92], line 4\u001b[0m\n\u001b[1;32m      1\u001b[0m \u001b[38;5;66;03m#!pip install investpy\u001b[39;00m\n\u001b[1;32m      2\u001b[0m \u001b[38;5;28;01mimport\u001b[39;00m \u001b[38;5;21;01minvestpy\u001b[39;00m\n\u001b[0;32m----> 4\u001b[0m df \u001b[38;5;241m=\u001b[39m \u001b[43minvestpy\u001b[49m\u001b[38;5;241;43m.\u001b[39;49m\u001b[43mget_stock_historical_data\u001b[49m\u001b[43m(\u001b[49m\u001b[43mstock\u001b[49m\u001b[38;5;241;43m=\u001b[39;49m\u001b[38;5;124;43m'\u001b[39;49m\u001b[38;5;124;43mAAPL\u001b[39;49m\u001b[38;5;124;43m'\u001b[39;49m\u001b[43m,\u001b[49m\n\u001b[1;32m      5\u001b[0m \u001b[43m                                        \u001b[49m\u001b[43mcountry\u001b[49m\u001b[38;5;241;43m=\u001b[39;49m\u001b[38;5;124;43m'\u001b[39;49m\u001b[38;5;124;43mUnited States\u001b[39;49m\u001b[38;5;124;43m'\u001b[39;49m\u001b[43m,\u001b[49m\n\u001b[1;32m      6\u001b[0m \u001b[43m                                        \u001b[49m\u001b[43mfrom_date\u001b[49m\u001b[38;5;241;43m=\u001b[39;49m\u001b[38;5;124;43m'\u001b[39;49m\u001b[38;5;124;43m01/01/2010\u001b[39;49m\u001b[38;5;124;43m'\u001b[39;49m\u001b[43m,\u001b[49m\n\u001b[1;32m      7\u001b[0m \u001b[43m                                        \u001b[49m\u001b[43mto_date\u001b[49m\u001b[38;5;241;43m=\u001b[39;49m\u001b[38;5;124;43m'\u001b[39;49m\u001b[38;5;124;43m01/01/2020\u001b[39;49m\u001b[38;5;124;43m'\u001b[39;49m\u001b[43m)\u001b[49m\n\u001b[1;32m      8\u001b[0m \u001b[38;5;28mprint\u001b[39m(df\u001b[38;5;241m.\u001b[39mhead())\n",
      "File \u001b[0;32m~/.local/lib/python3.9/site-packages/investpy/stocks.py:664\u001b[0m, in \u001b[0;36mget_stock_historical_data\u001b[0;34m(stock, country, from_date, to_date, as_json, order, interval)\u001b[0m\n\u001b[1;32m    661\u001b[0m req \u001b[38;5;241m=\u001b[39m requests\u001b[38;5;241m.\u001b[39mpost(url, headers\u001b[38;5;241m=\u001b[39mhead, data\u001b[38;5;241m=\u001b[39mparams)\n\u001b[1;32m    663\u001b[0m \u001b[38;5;28;01mif\u001b[39;00m req\u001b[38;5;241m.\u001b[39mstatus_code \u001b[38;5;241m!=\u001b[39m \u001b[38;5;241m200\u001b[39m:\n\u001b[0;32m--> 664\u001b[0m     \u001b[38;5;28;01mraise\u001b[39;00m \u001b[38;5;167;01mConnectionError\u001b[39;00m(\n\u001b[1;32m    665\u001b[0m         \u001b[38;5;124m\"\u001b[39m\u001b[38;5;124mERR#0015: error \u001b[39m\u001b[38;5;124m\"\u001b[39m \u001b[38;5;241m+\u001b[39m \u001b[38;5;28mstr\u001b[39m(req\u001b[38;5;241m.\u001b[39mstatus_code) \u001b[38;5;241m+\u001b[39m \u001b[38;5;124m\"\u001b[39m\u001b[38;5;124m, try again later.\u001b[39m\u001b[38;5;124m\"\u001b[39m\n\u001b[1;32m    666\u001b[0m     )\n\u001b[1;32m    668\u001b[0m \u001b[38;5;28;01mif\u001b[39;00m \u001b[38;5;129;01mnot\u001b[39;00m req\u001b[38;5;241m.\u001b[39mtext:\n\u001b[1;32m    669\u001b[0m     \u001b[38;5;28;01mcontinue\u001b[39;00m\n",
      "\u001b[0;31mConnectionError\u001b[0m: ERR#0015: error 403, try again later."
     ]
    }
   ],
   "source": [
    "\n",
    "#!pip install investpy\n",
    "import investpy\n",
    "\n",
    "df = investpy.get_stock_historical_data(stock='AAPL',\n",
    "                                        country='United States',\n",
    "                                        from_date='01/01/2010',\n",
    "                                        to_date='01/01/2020')\n",
    "print(df.head())\n"
   ]
  },
  {
   "cell_type": "code",
   "execution_count": 1,
   "id": "96d3bc5a-a168-4849-8743-ccb0d237c83f",
   "metadata": {},
   "outputs": [
    {
     "name": "stdout",
     "output_type": "stream",
     "text": [
      "<class 'generator'>\n"
     ]
    },
    {
     "ename": "AttributeError",
     "evalue": "'list' object has no attribute 'str'",
     "output_type": "error",
     "traceback": [
      "\u001b[0;31m---------------------------------------------------------------------------\u001b[0m",
      "\u001b[0;31mAttributeError\u001b[0m                            Traceback (most recent call last)",
      "Cell \u001b[0;32mIn[1], line 8\u001b[0m\n\u001b[1;32m      4\u001b[0m     df\u001b[38;5;241m.\u001b[39mappend([line\u001b[38;5;241m.\u001b[39mrstrip() \u001b[38;5;28;01mfor\u001b[39;00m line \u001b[38;5;129;01min\u001b[39;00m file])\n\u001b[1;32m      5\u001b[0m     \u001b[38;5;28mprint\u001b[39m(\u001b[38;5;28mtype\u001b[39m(line \u001b[38;5;28;01mfor\u001b[39;00m line \u001b[38;5;129;01min\u001b[39;00m file))\n\u001b[0;32m----> 8\u001b[0m df_exploded \u001b[38;5;241m=\u001b[39m \u001b[43mdf\u001b[49m\u001b[43m[\u001b[49m\u001b[38;5;241;43m0\u001b[39;49m\u001b[43m]\u001b[49m\u001b[38;5;241;43m.\u001b[39;49m\u001b[43mstr\u001b[49m\u001b[38;5;241m.\u001b[39msplit(\u001b[38;5;124m'\u001b[39m\u001b[38;5;130;01m\\t\u001b[39;00m\u001b[38;5;124m'\u001b[39m)\u001b[38;5;241m.\u001b[39mexplode()\u001b[38;5;241m.\u001b[39mreset_index(drop\u001b[38;5;241m=\u001b[39m\u001b[38;5;28;01mTrue\u001b[39;00m)\n",
      "\u001b[0;31mAttributeError\u001b[0m: 'list' object has no attribute 'str'"
     ]
    }
   ],
   "source": [
    "filename= 'output_dir.txt'\n",
    "df=[]\n",
    "with open(filename) as file:\n",
    "    df.append([line.rstrip() for line in file])\n",
    "    print(type(line for line in file))\n",
    "\n",
    "\n",
    "df_exploded = df[0].str.split('\\t').explode().reset_index(drop=True)"
   ]
  },
  {
   "cell_type": "code",
   "execution_count": 10,
   "id": "ce8e5978-da00-4720-a28c-5abd9e9e35ea",
   "metadata": {},
   "outputs": [
    {
     "name": "stdout",
     "output_type": "stream",
     "text": [
      "Warning - Certain functionality \n",
      "             requires requests_html, which is not installed.\n",
      "             \n",
      "             Install using: \n",
      "             pip install requests_html\n",
      "             \n",
      "             After installation, you may have to restart your Python session.\n"
     ]
    }
   ],
   "source": [
    "# # FOR FUNDAMENTAL ANALYSIS https://python-yahoofinance.readthedocs.io/en/latest/api.html\n",
    "#!pip install yahoo_fin --upgrade\n",
    "#!pip install requests_htm\n",
    "\n",
    "\n",
    "import os\n",
    "import requests\n",
    "import json\n",
    "import pandas as pd\n",
    "from datetime import datetime\n",
    "import yahoo_fin.stock_info as si\n",
    "# import requests_htm"
   ]
  },
  {
   "cell_type": "code",
   "execution_count": 11,
   "id": "e304ef8c-dfac-4131-af52-81abcaedfa0e",
   "metadata": {},
   "outputs": [],
   "source": [
    "# #!pip install yfinance --upgrade --no-cache-dir      # https://algotrading101.com/learn/yfinance-guide/\n",
    "# import yfinance as yf\n",
    "# msft = yf.Ticker(\"MSFT\")\n",
    "# print(msft.info)"
   ]
  },
  {
   "cell_type": "code",
   "execution_count": 13,
   "id": "255bd68a-b27b-447d-837b-45394d773c40",
   "metadata": {},
   "outputs": [],
   "source": [
    "\n",
    "\n",
    "curr_date=datetime.today().strftime('%m/%d/%Y')\n",
    "\n",
    "#reliance_daily= si.get_data(\"RELIANCE.NS\", start_date=\"12/04/2014\", end_date=curr_date, index_as_date = True, interval=\"1d\")   \n",
    "# https://query1.finance.yahoo.com/v8/finance/chart/RELIANCE.NS\n",
    "# reliance_daily\n",
    "\n",
    "# getting list of tickers from where?\n",
    "# dow_list = si.tickers_other()\n",
    "# print(\"Tickers in Dow Jones:\", len(dow_list))\n",
    "# dow_list[0:10]\n"
   ]
  },
  {
   "cell_type": "code",
   "execution_count": null,
   "id": "261b3b5f-568e-4d57-a874-5e619dfd9245",
   "metadata": {},
   "outputs": [],
   "source": []
  }
 ],
 "metadata": {
  "kernelspec": {
   "display_name": "Python 3 (ipykernel)",
   "language": "python",
   "name": "python3"
  },
  "language_info": {
   "codemirror_mode": {
    "name": "ipython",
    "version": 3
   },
   "file_extension": ".py",
   "mimetype": "text/x-python",
   "name": "python",
   "nbconvert_exporter": "python",
   "pygments_lexer": "ipython3",
   "version": "3.9.16"
  }
 },
 "nbformat": 4,
 "nbformat_minor": 5
}
